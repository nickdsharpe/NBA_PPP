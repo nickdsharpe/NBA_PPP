{
 "cells": [
  {
   "cell_type": "code",
   "execution_count": 1,
   "id": "245adb05-fc11-4b00-9f5e-2c72870dc389",
   "metadata": {},
   "outputs": [],
   "source": [
    "import pandas as pd"
   ]
  },
  {
   "cell_type": "code",
   "execution_count": null,
   "id": "75953f30-92d4-454d-ac35-90df5782c2a0",
   "metadata": {},
   "outputs": [],
   "source": [
    "teams = ['Celtics', 'Lakers', 'Heat', 'Nuggets']\n",
    "skips = ['!Data', '!PPP Stats']\n",
    "for team in teams:\n",
    "    for "
   ]
  }
 ],
 "metadata": {
  "kernelspec": {
   "display_name": "Python 3 (ipykernel)",
   "language": "python",
   "name": "python3"
  },
  "language_info": {
   "codemirror_mode": {
    "name": "ipython",
    "version": 3
   },
   "file_extension": ".py",
   "mimetype": "text/x-python",
   "name": "python",
   "nbconvert_exporter": "python",
   "pygments_lexer": "ipython3",
   "version": "3.9.12"
  }
 },
 "nbformat": 4,
 "nbformat_minor": 5
}
