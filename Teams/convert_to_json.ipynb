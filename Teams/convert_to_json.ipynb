{
 "cells": [
  {
   "cell_type": "code",
   "execution_count": 1,
   "id": "f8cc6c43-7f08-432c-84d7-99b371237689",
   "metadata": {},
   "outputs": [],
   "source": [
    "import pandas as pd\n",
    "import json"
   ]
  },
  {
   "cell_type": "code",
   "execution_count": 48,
   "id": "f53cff9e-d41a-4d1a-9171-a02332e6a6b1",
   "metadata": {},
   "outputs": [],
   "source": [
    "players = ['adebayo', 'butler', 'love', 'lowry', 'martin', 'robinson', 'strus', 'vincent', 'zeller', 'team', 'opp']\n",
    "game = 'Game5'\n",
    "team = 'Heat'\n",
    "opp = 'Nuggets'\n",
    "upper = ['KCP', 'MPJ']\n",
    "game_json = {}"
   ]
  },
  {
   "cell_type": "code",
   "execution_count": 49,
   "id": "7c687e20-0879-4ece-a48b-48fabbd899db",
   "metadata": {},
   "outputs": [],
   "source": [
    "for player in players:\n",
    "    \n",
    "    if player in upper:\n",
    "        path = f'{team}/{player}/PPP Stats/{game + opp}.csv'\n",
    "    else:\n",
    "        path = f'{team}/{player.title()}/PPP Stats/{game + opp}.csv'\n",
    "\n",
    "    player_df = pd.read_csv(path)\n",
    "    player_df = player_df.fillna('N/A')\n",
    "    player_df = player_df.rename(columns={'Unnamed: 0': 'shottype', 'Total PPP': 'totalppp', '% of Poss.' : 'perofposs',\n",
    "                                          'Total TO': 'totalto', 'Total FG%': 'totalfgper', 'Shooting PPP': 'shootppp',\n",
    "                                          '% of Shooting Poss.': 'perofshootposs', 'Shooting FG%': 'shootfgper', \n",
    "                                          'Shooting 2pt Att.': 'shoot2ptatt', 'Shooting 2pt FG%': 'shoot2ptfgper',\n",
    "                                          'Shooting 3pt Att.': 'shoot3ptatt', 'Shooting 3pt FG%': 'shoot3ptfgper',\n",
    "                                          'Passing PPP': 'passppp', '% of Passing Poss.': 'perofpassposs', 'Passing FG%': 'passfgper',\n",
    "                                          'Passing 2pt Att.': 'pass2ptatt', 'Passing 2pt FG%': 'pass2ptfgper',\n",
    "                                          'Passing 3pt Att.': 'pass3ptatt', 'Passing 3pt FG%': 'pass3ptfgper'\n",
    "                                         })\n",
    "    \n",
    "    player_json = player_df.to_dict(orient='records')\n",
    "    game_json[player] = player_json\n",
    "    \n",
    "output_name = f'{game + team}.json'\n",
    "\n",
    "with open(output_name, 'w', encoding='utf-8') as f:\n",
    "    json.dump(game_json, f, ensure_ascii=False, indent=4)"
   ]
  },
  {
   "cell_type": "code",
   "execution_count": null,
   "id": "5a0e870d-7345-416b-9efa-1b6a9ff331ac",
   "metadata": {},
   "outputs": [],
   "source": []
  }
 ],
 "metadata": {
  "kernelspec": {
   "display_name": "Python 3 (ipykernel)",
   "language": "python",
   "name": "python3"
  },
  "language_info": {
   "codemirror_mode": {
    "name": "ipython",
    "version": 3
   },
   "file_extension": ".py",
   "mimetype": "text/x-python",
   "name": "python",
   "nbconvert_exporter": "python",
   "pygments_lexer": "ipython3",
   "version": "3.9.13"
  }
 },
 "nbformat": 4,
 "nbformat_minor": 5
}
