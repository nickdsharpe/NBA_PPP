{
 "cells": [
  {
   "cell_type": "code",
   "execution_count": 14,
   "id": "636c6dce-02ea-4b16-81d1-3660f4d64bde",
   "metadata": {},
   "outputs": [],
   "source": [
    "import pandas as pd\n",
    "import time\n",
    "import numpy as np\n",
    "np.seterr(invalid='ignore')\n",
    "import nbimporter\n",
    "\n",
    "newGame = 'Game1Suns'"
   ]
  },
  {
   "cell_type": "code",
   "execution_count": 33,
   "id": "89d83a89-b2a2-475a-a5cc-f2dd3bd8db1d",
   "metadata": {},
   "outputs": [],
   "source": [
    "players = ['murray', 'jokic', 'gordon', 'KCP', 'MPJ', 'bruce', 'green', 'braun']"
   ]
  },
  {
   "cell_type": "code",
   "execution_count": 46,
   "id": "60e1f24c-f812-47ae-a4ea-62fb18d14b2f",
   "metadata": {},
   "outputs": [],
   "source": [
    "def load_data(players, add=False):\n",
    "    \n",
    "    new_player_data = {}\n",
    "    ovr_player_data = {}\n",
    "    series_player_data = {}\n",
    "    \n",
    "    for player in players:\n",
    "        \n",
    "        try:\n",
    "            newplayerFile = (f'{player.title()}/{newGame + player.title()}.csv')\n",
    "            newplayer = pd.read_csv(newplayerFile)\n",
    "            newplayer = newplayer.dropna()\n",
    "            newplayer = newplayer.set_index('Shot Type')\n",
    "            newplayer = newplayer.astype('int')\n",
    "            new_player_data[player] = newplayer\n",
    "            \n",
    "        except(FileNotFoundError):\n",
    "            print(f'No {player.title()} File Found.')\n",
    "            \n",
    "        '''\n",
    "        # Load current round data\n",
    "        currentMurrayFile = ('!Data/Playoffs/WCF/Murray.csv')\n",
    "        currentMurray = pd.read_csv(currentMurrayFile)\n",
    "        currentMurray = currentMurray.dropna()\n",
    "        currentMurray = currentMurray.set_index('Shot Type')\n",
    "        currentMurray = currentMurray.astype('int')\n",
    "        '''\n",
    "        # Load overall data\n",
    "        ovrplayerFile = (f'!Data/Playoffs/{player.title()}.csv')\n",
    "        ovrplayer = pd.read_csv(ovrplayerFile)\n",
    "        ovrplayer = ovrplayer.dropna()\n",
    "        ovrplayer = ovrplayer.set_index('Shot Type')\n",
    "        ovrplayer = ovrplayer.astype('int')\n",
    "        ovr_player_data[player] = ovrplayer\n",
    "    \n",
    "    if add == True:\n",
    "        \n",
    "        if murray.columns.equals(newMurray.columns):\n",
    "            murray = murray.add(newMurray)\n",
    "            murray.to_csv('!Data/Playoffs/Murray.csv')\n",
    "            #currentMurray = currentMurray.add(newMurray)\n",
    "            #currentMurray.to_csv('!Data/Playoffs/WCF/Murray.csv')\n",
    "        else:\n",
    "            print(\"Columns do not match\")\n",
    "\n",
    "        \n",
    "    else:\n",
    "        return new_player_data, ovr_player_data   "
   ]
  },
  {
   "cell_type": "code",
   "execution_count": null,
   "id": "f376e7bb-ec6d-4a9f-923f-7e77ee446b49",
   "metadata": {},
   "outputs": [],
   "source": []
  }
 ],
 "metadata": {
  "kernelspec": {
   "display_name": "Python 3 (ipykernel)",
   "language": "python",
   "name": "python3"
  },
  "language_info": {
   "codemirror_mode": {
    "name": "ipython",
    "version": 3
   },
   "file_extension": ".py",
   "mimetype": "text/x-python",
   "name": "python",
   "nbconvert_exporter": "python",
   "pygments_lexer": "ipython3",
   "version": "3.9.12"
  }
 },
 "nbformat": 4,
 "nbformat_minor": 5
}
